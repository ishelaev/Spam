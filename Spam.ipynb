{
 "cells": [
  {
   "cell_type": "code",
   "execution_count": 2,
   "metadata": {},
   "outputs": [],
   "source": [
    "# Импорт библиотек\n",
    "import pandas as pd\n",
    "import matplotlib.pyplot as plt\n",
    "import seaborn as sns\n",
    "from sklearn.feature_extraction.text import TfidfVectorizer\n",
    "from sklearn.model_selection import train_test_split\n",
    "from sklearn.metrics import roc_auc_score\n",
    "from sklearn.linear_model import LogisticRegression\n",
    "from sklearn.ensemble import RandomForestClassifier\n",
    "from sklearn.pipeline import Pipeline"
   ]
  },
  {
   "cell_type": "code",
   "execution_count": 3,
   "metadata": {},
   "outputs": [],
   "source": [
    "# Загрузка данных\n",
    "train_df = pd.read_csv('/Users/ivan/Desktop/Тестовое контакт 2/train_spam.csv')\n",
    "test_df = pd.read_csv('/Users/ivan/Desktop/Тестовое контакт 2/test_spam.csv')"
   ]
  },
  {
   "cell_type": "code",
   "execution_count": 4,
   "metadata": {},
   "outputs": [
    {
     "data": {
      "text/html": [
       "<div>\n",
       "<style scoped>\n",
       "    .dataframe tbody tr th:only-of-type {\n",
       "        vertical-align: middle;\n",
       "    }\n",
       "\n",
       "    .dataframe tbody tr th {\n",
       "        vertical-align: top;\n",
       "    }\n",
       "\n",
       "    .dataframe thead th {\n",
       "        text-align: right;\n",
       "    }\n",
       "</style>\n",
       "<table border=\"1\" class=\"dataframe\">\n",
       "  <thead>\n",
       "    <tr style=\"text-align: right;\">\n",
       "      <th></th>\n",
       "      <th>text_type</th>\n",
       "      <th>text</th>\n",
       "    </tr>\n",
       "  </thead>\n",
       "  <tbody>\n",
       "    <tr>\n",
       "      <th>0</th>\n",
       "      <td>ham</td>\n",
       "      <td>make sure alex knows his birthday is over in f...</td>\n",
       "    </tr>\n",
       "    <tr>\n",
       "      <th>1</th>\n",
       "      <td>ham</td>\n",
       "      <td>a resume for john lavorato thanks vince i will...</td>\n",
       "    </tr>\n",
       "    <tr>\n",
       "      <th>2</th>\n",
       "      <td>spam</td>\n",
       "      <td>plzz visit my website moviesgodml to get all m...</td>\n",
       "    </tr>\n",
       "    <tr>\n",
       "      <th>3</th>\n",
       "      <td>spam</td>\n",
       "      <td>urgent your mobile number has been awarded wit...</td>\n",
       "    </tr>\n",
       "    <tr>\n",
       "      <th>4</th>\n",
       "      <td>ham</td>\n",
       "      <td>overview of hr associates analyst project per ...</td>\n",
       "    </tr>\n",
       "    <tr>\n",
       "      <th>...</th>\n",
       "      <td>...</td>\n",
       "      <td>...</td>\n",
       "    </tr>\n",
       "    <tr>\n",
       "      <th>16273</th>\n",
       "      <td>spam</td>\n",
       "      <td>if you are interested in binary options tradin...</td>\n",
       "    </tr>\n",
       "    <tr>\n",
       "      <th>16274</th>\n",
       "      <td>spam</td>\n",
       "      <td>dirty pictureblyk on aircel thanks you for bei...</td>\n",
       "    </tr>\n",
       "    <tr>\n",
       "      <th>16275</th>\n",
       "      <td>ham</td>\n",
       "      <td>or you could do this g on mon 1635465 sep 1635...</td>\n",
       "    </tr>\n",
       "    <tr>\n",
       "      <th>16276</th>\n",
       "      <td>ham</td>\n",
       "      <td>insta reels par 80 गंद bhara pada hai 👀 kuch b...</td>\n",
       "    </tr>\n",
       "    <tr>\n",
       "      <th>16277</th>\n",
       "      <td>ham</td>\n",
       "      <td>alex s paper comments 1 in the sentence betwee...</td>\n",
       "    </tr>\n",
       "  </tbody>\n",
       "</table>\n",
       "<p>16278 rows × 2 columns</p>\n",
       "</div>"
      ],
      "text/plain": [
       "      text_type                                               text\n",
       "0           ham  make sure alex knows his birthday is over in f...\n",
       "1           ham  a resume for john lavorato thanks vince i will...\n",
       "2          spam  plzz visit my website moviesgodml to get all m...\n",
       "3          spam  urgent your mobile number has been awarded wit...\n",
       "4           ham  overview of hr associates analyst project per ...\n",
       "...         ...                                                ...\n",
       "16273      spam  if you are interested in binary options tradin...\n",
       "16274      spam  dirty pictureblyk on aircel thanks you for bei...\n",
       "16275       ham  or you could do this g on mon 1635465 sep 1635...\n",
       "16276       ham  insta reels par 80 गंद bhara pada hai 👀 kuch b...\n",
       "16277       ham  alex s paper comments 1 in the sentence betwee...\n",
       "\n",
       "[16278 rows x 2 columns]"
      ]
     },
     "execution_count": 4,
     "metadata": {},
     "output_type": "execute_result"
    }
   ],
   "source": [
    "train_df"
   ]
  },
  {
   "cell_type": "code",
   "execution_count": 5,
   "metadata": {},
   "outputs": [
    {
     "data": {
      "text/html": [
       "<div>\n",
       "<style scoped>\n",
       "    .dataframe tbody tr th:only-of-type {\n",
       "        vertical-align: middle;\n",
       "    }\n",
       "\n",
       "    .dataframe tbody tr th {\n",
       "        vertical-align: top;\n",
       "    }\n",
       "\n",
       "    .dataframe thead th {\n",
       "        text-align: right;\n",
       "    }\n",
       "</style>\n",
       "<table border=\"1\" class=\"dataframe\">\n",
       "  <thead>\n",
       "    <tr style=\"text-align: right;\">\n",
       "      <th></th>\n",
       "      <th>text</th>\n",
       "    </tr>\n",
       "  </thead>\n",
       "  <tbody>\n",
       "    <tr>\n",
       "      <th>0</th>\n",
       "      <td>j jim whitehead ejw cse ucsc edu writes j you ...</td>\n",
       "    </tr>\n",
       "    <tr>\n",
       "      <th>1</th>\n",
       "      <td>original message from bitbitch magnesium net p...</td>\n",
       "    </tr>\n",
       "    <tr>\n",
       "      <th>2</th>\n",
       "      <td>java for managers vince durasoft who just taug...</td>\n",
       "    </tr>\n",
       "    <tr>\n",
       "      <th>3</th>\n",
       "      <td>there is a youtuber name saiman says</td>\n",
       "    </tr>\n",
       "    <tr>\n",
       "      <th>4</th>\n",
       "      <td>underpriced issue with high return on equity t...</td>\n",
       "    </tr>\n",
       "    <tr>\n",
       "      <th>...</th>\n",
       "      <td>...</td>\n",
       "    </tr>\n",
       "    <tr>\n",
       "      <th>4065</th>\n",
       "      <td>husband to wifetum meri zindagi hoorwifeor kya...</td>\n",
       "    </tr>\n",
       "    <tr>\n",
       "      <th>4066</th>\n",
       "      <td>baylor enron case study cindy yes i shall co a...</td>\n",
       "    </tr>\n",
       "    <tr>\n",
       "      <th>4067</th>\n",
       "      <td>boring as compared to tp</td>\n",
       "    </tr>\n",
       "    <tr>\n",
       "      <th>4068</th>\n",
       "      <td>hellogorgeous hows u my fone was on charge lst...</td>\n",
       "    </tr>\n",
       "    <tr>\n",
       "      <th>4069</th>\n",
       "      <td>energy conference mark we are really swamped a...</td>\n",
       "    </tr>\n",
       "  </tbody>\n",
       "</table>\n",
       "<p>4070 rows × 1 columns</p>\n",
       "</div>"
      ],
      "text/plain": [
       "                                                   text\n",
       "0     j jim whitehead ejw cse ucsc edu writes j you ...\n",
       "1     original message from bitbitch magnesium net p...\n",
       "2     java for managers vince durasoft who just taug...\n",
       "3                  there is a youtuber name saiman says\n",
       "4     underpriced issue with high return on equity t...\n",
       "...                                                 ...\n",
       "4065  husband to wifetum meri zindagi hoorwifeor kya...\n",
       "4066  baylor enron case study cindy yes i shall co a...\n",
       "4067                           boring as compared to tp\n",
       "4068  hellogorgeous hows u my fone was on charge lst...\n",
       "4069  energy conference mark we are really swamped a...\n",
       "\n",
       "[4070 rows x 1 columns]"
      ]
     },
     "execution_count": 5,
     "metadata": {},
     "output_type": "execute_result"
    }
   ],
   "source": [
    "test_df"
   ]
  },
  {
   "cell_type": "code",
   "execution_count": 6,
   "metadata": {},
   "outputs": [
    {
     "name": "stdout",
     "output_type": "stream",
     "text": [
      "Пропусков в обучающей выборке: 0\n",
      "Пропусков в тестовой выборке: 0\n"
     ]
    }
   ],
   "source": [
    "# Проверяю на наличие пропусков в данных\n",
    "print(f'Пропусков в обучающей выборке: {train_df.isna().sum().sum()}')\n",
    "print(f'Пропусков в тестовой выборке: {test_df.isna().sum().sum()}')"
   ]
  },
  {
   "cell_type": "code",
   "execution_count": 7,
   "metadata": {},
   "outputs": [
    {
     "name": "stdout",
     "output_type": "stream",
     "text": [
      "Распределение классов:\n",
      "ham     11469\n",
      "spam     4809\n",
      "Name: text_type, dtype: int64\n"
     ]
    },
    {
     "data": {
      "image/png": "[encoded data removed]",
      "text/plain": [
       "<Figure size 600x400 with 1 Axes>"
      ]
     },
     "metadata": {},
     "output_type": "display_data"
    }
   ],
   "source": [
    "# Проверяю распределение классов\n",
    "print(\"Распределение классов:\")\n",
    "print(train_df['text_type'].value_counts())\n",
    "\n",
    "# Построение распределения классов\n",
    "plt.figure(figsize=(6, 4))\n",
    "sns.countplot(data=train_df, x='text_type', palette='Set3')\n",
    "plt.title('Распределение классов')\n",
    "plt.xlabel('Класс')\n",
    "plt.ylabel('Частота')\n",
    "plt.show()"
   ]
  },
  {
   "cell_type": "code",
   "execution_count": 8,
   "metadata": {},
   "outputs": [],
   "source": [
    "# Заменяю колонку text_type: 0 не спам, 1 - спам\n",
    "train_df['text_type'] = train_df['text_type'].map({'ham': 0, 'spam': 1})"
   ]
  },
  {
   "cell_type": "code",
   "execution_count": 9,
   "metadata": {},
   "outputs": [],
   "source": [
    "# Разделяю выборку на трейн и валидацию\n",
    "X_train, X_val, y_train, y_val = train_test_split(train_df['text'], train_df['text_type'], test_size=0.2, random_state=42)"
   ]
  },
  {
   "cell_type": "code",
   "execution_count": 10,
   "metadata": {},
   "outputs": [],
   "source": [
    "# Создание TF-IDF векторизатора\n",
    "tfidf_vectorizer = TfidfVectorizer(max_features=10000, ngram_range=(1, 2))\n",
    "\n",
    "# Преобразование текста в числовой формат\n",
    "X_train_tfidf = tfidf_vectorizer.fit_transform(X_train)\n",
    "X_val_tfidf = tfidf_vectorizer.transform(X_val)"
   ]
  },
  {
   "cell_type": "markdown",
   "metadata": {},
   "source": [
    "<span style=\"color:dimgray; font-size:20px\">1. Логистическая регрессия</span>\n"
   ]
  },
  {
   "cell_type": "code",
   "execution_count": 11,
   "metadata": {},
   "outputs": [
    {
     "name": "stdout",
     "output_type": "stream",
     "text": [
      "ROC-AUC на тренировочной выборке: 0.9908258057314366\n",
      "ROC-AUC на валидационной выборке: 0.9810875821089471\n"
     ]
    }
   ],
   "source": [
    "# Инициализация и обучение логистической регрессии\n",
    "\n",
    "logistic_regression = LogisticRegression()\n",
    "logistic_regression.fit(X_train_tfidf, y_train)\n",
    "\n",
    "# Прогнозирование на тренировочной выборке\n",
    "y_train_pred_proba = logistic_regression.predict_proba(X_train_tfidf)[:, 1]\n",
    "\n",
    "# Вычисление ROC-AUC на тренировочной выборке\n",
    "roc_auc_train = roc_auc_score(y_train, y_train_pred_proba)\n",
    "print(\"ROC-AUC на тренировочной выборке:\", roc_auc_train)\n",
    "\n",
    "\n",
    "# Прогнозирование на валидационной выборке\n",
    "y_val_pred_proba = logistic_regression.predict_proba(X_val_tfidf)[:, 1]\n",
    "\n",
    "# Вычисление ROC-AUC на валидационной выборке\n",
    "roc_auc = roc_auc_score(y_val, y_val_pred_proba)\n",
    "print(\"ROC-AUC на валидационной выборке:\", roc_auc)"
   ]
  },
  {
   "cell_type": "code",
   "execution_count": 12,
   "metadata": {},
   "outputs": [
    {
     "name": "stdout",
     "output_type": "stream",
     "text": [
      "Наилучшие гиперпараметры: {'C': 10, 'penalty': 'l2'}\n",
      "ROC-AUC на валидационной выборке после настройки гиперпараметров: 0.9835726809622443\n"
     ]
    }
   ],
   "source": [
    "# Пробую улучшить модель с помощью перебора гиперпараметров\n",
    "from sklearn.model_selection import GridSearchCV\n",
    "\n",
    "param_grid = {\n",
    "    'C': [0.001, 0.01, 0.1, 1, 10, 100],  # Параметр регуляризации\n",
    "    'penalty': ['l2']  # Тип регуляризации\n",
    "}\n",
    "\n",
    "grid_search = GridSearchCV(LogisticRegression(), param_grid, cv=5, scoring='roc_auc')\n",
    "\n",
    "# Подгонка GridSearchCV к данным\n",
    "grid_search.fit(X_train_tfidf, y_train)\n",
    "\n",
    "# Получение наилучших гиперпараметров\n",
    "best_params = grid_search.best_params_\n",
    "print(\"Наилучшие гиперпараметры:\", best_params)\n",
    "\n",
    "# Получение лучшей модели\n",
    "best_model = grid_search.best_estimator_\n",
    "\n",
    "# Прогнозирование на валидационной выборке с использованием лучшей модели\n",
    "y_val_pred_proba = best_model.predict_proba(X_val_tfidf)[:, 1]\n",
    "\n",
    "# Вычисление ROC-AUC\n",
    "roc_auc = roc_auc_score(y_val, y_val_pred_proba)\n",
    "print(\"ROC-AUC на валидационной выборке после настройки гиперпараметров:\", roc_auc)"
   ]
  },
  {
   "cell_type": "markdown",
   "metadata": {},
   "source": [
    "<span style=\"color:dimgray; font-size:20px\">2. Случайный лес</span>"
   ]
  },
  {
   "cell_type": "code",
   "execution_count": 13,
   "metadata": {},
   "outputs": [
    {
     "name": "stdout",
     "output_type": "stream",
     "text": [
      "ROC-AUC для модели случайного леса на валидационной выборке: 0.9846124780255606\n"
     ]
    }
   ],
   "source": [
    "from sklearn.ensemble import RandomForestClassifier\n",
    "\n",
    "# Обучение модели случайного леса\n",
    "random_forest = RandomForestClassifier(n_estimators=100, random_state=42)\n",
    "random_forest.fit(X_train_tfidf, y_train)\n",
    "\n",
    "# Прогнозирование на валидационной выборке\n",
    "y_val_pred_proba_rf = random_forest.predict_proba(X_val_tfidf)[:, 1]\n",
    "\n",
    "# Вычисление ROC-AUC для модели случайного леса\n",
    "roc_auc_rf = roc_auc_score(y_val, y_val_pred_proba_rf)\n",
    "print(\"ROC-AUC для модели случайного леса на валидационной выборке:\", roc_auc_rf)"
   ]
  },
  {
   "cell_type": "code",
   "execution_count": 16,
   "metadata": {},
   "outputs": [
    {
     "name": "stdout",
     "output_type": "stream",
     "text": [
      "Best Parameters: {'clf__bootstrap': False, 'clf__class_weight': 'balanced', 'clf__max_depth': None, 'clf__max_features': 'log2', 'clf__min_samples_leaf': 1, 'clf__min_samples_split': 10, 'clf__n_estimators': 200}\n"
     ]
    }
   ],
   "source": [
    "# Пробую улучшить модель с помощью перебора гиперпараметров\n",
    "\n",
    "# Определение сетки гиперпараметров для случайного леса\n",
    "param_grid_rf = {\n",
    "    'clf__n_estimators': [100, 200],\n",
    "    'clf__max_depth': [None, 10],\n",
    "    'clf__min_samples_split': [5, 10],\n",
    "    'clf__min_samples_leaf': [1, 2],\n",
    "    'clf__max_features': ['sqrt', 'log2'],\n",
    "    'clf__bootstrap': [False],\n",
    "    'clf__class_weight': ['balanced']\n",
    "}\n",
    "# Инициализация модели случайного леса\n",
    "random_forest_model = RandomForestClassifier(random_state=42)\n",
    "\n",
    "# Создание пайплайна\n",
    "pipeline_rf = Pipeline([('vect', TfidfVectorizer()), ('clf', random_forest_model)])\n",
    "\n",
    "# Поиск лучших параметров с помощью кросс-валидации\n",
    "grid_search_rf = GridSearchCV(pipeline_rf, param_grid_rf, cv=5, scoring='roc_auc')\n",
    "grid_search_rf.fit(X_train, y_train)\n",
    "\n",
    "# Лучшие параметры и результаты\n",
    "print(\"Best Parameters:\", grid_search_rf.best_params_)"
   ]
  },
  {
   "cell_type": "code",
   "execution_count": 17,
   "metadata": {},
   "outputs": [
    {
     "name": "stdout",
     "output_type": "stream",
     "text": [
      "ROC-AUC для модели случайного леса на валидационной выборке после настройки гиперпараметров: 0.9915330152271632\n"
     ]
    }
   ],
   "source": [
    "best_model_rf = grid_search_rf.best_estimator_\n",
    "\n",
    "# Прогнозирование на валидационной выборке с использованием лучшей модели случайного леса\n",
    "y_val_pred_proba_rf = best_model_rf.predict_proba(X_val)[:, 1]\n",
    "\n",
    "# Вычисление ROC-AUC для случайного леса\n",
    "roc_auc_rf = roc_auc_score(y_val, y_val_pred_proba_rf)\n",
    "print(\"ROC-AUC для модели случайного леса на валидационной выборке после настройки гиперпараметров:\", roc_auc_rf)"
   ]
  },
  {
   "cell_type": "markdown",
   "metadata": {},
   "source": [
    "<span style=\"color:dimgray; font-size:20px\">3. Наивный Байесовский классификатор</span>\n",
    "\n"
   ]
  },
  {
   "cell_type": "code",
   "execution_count": 18,
   "metadata": {},
   "outputs": [
    {
     "name": "stdout",
     "output_type": "stream",
     "text": [
      "ROC-AUC для модели наивного Байеса на валидационной выборке: 0.9735041829194958\n"
     ]
    }
   ],
   "source": [
    "from sklearn.naive_bayes import MultinomialNB\n",
    "\n",
    "# Инициализация и обучение модели\n",
    "naive_bayes = MultinomialNB()\n",
    "naive_bayes.fit(X_train_tfidf, y_train)\n",
    "\n",
    "# Прогнозирование на валидационной выборке\n",
    "y_val_pred_proba_nb = naive_bayes.predict_proba(X_val_tfidf)[:, 1]\n",
    "\n",
    "# Вычисление ROC-AUC для модели наивного Байеса\n",
    "roc_auc_nb = roc_auc_score(y_val, y_val_pred_proba_nb)\n",
    "print(\"ROC-AUC для модели наивного Байеса на валидационной выборке:\", roc_auc_nb)"
   ]
  },
  {
   "cell_type": "markdown",
   "metadata": {},
   "source": [
    "<span style=\"color:dimgray; font-size:20px\">4. XGBoost</span>\n"
   ]
  },
  {
   "cell_type": "code",
   "execution_count": 21,
   "metadata": {},
   "outputs": [
    {
     "name": "stdout",
     "output_type": "stream",
     "text": [
      "ROC-AUC для модели XGBoost на тренировочной выборке: 0.9936295110587802\n",
      "ROC-AUC для модели XGBoost на валидационной выборке: 0.976280738295083\n"
     ]
    }
   ],
   "source": [
    "import xgboost as xgb\n",
    "\n",
    "# Инициализация модели XGBoost\n",
    "xgb_model = xgb.XGBClassifier()\n",
    "# Обучение модели\n",
    "xgb_model.fit(X_train_tfidf, y_train)\n",
    "\n",
    "y_train_pred_proba_xgb = xgb_model.predict_proba(X_train_tfidf)[:, 1]\n",
    "\n",
    "# Вычисление ROC-AUC для модели XGBoost на тренировочной выборке\n",
    "roc_auc_xgb_train = roc_auc_score(y_train, y_train_pred_proba_xgb)\n",
    "print(\"ROC-AUC для модели XGBoost на тренировочной выборке:\", roc_auc_xgb_train)\n",
    "\n",
    "# Прогнозирование на валидационной выборке\n",
    "y_val_pred_proba_xgb = xgb_model.predict_proba(X_val_tfidf)[:, 1]\n",
    "\n",
    "# Вычисление ROC-AUC для модели XGBoost\n",
    "roc_auc_xgb = roc_auc_score(y_val, y_val_pred_proba_xgb)\n",
    "print(\"ROC-AUC для модели XGBoost на валидационной выборке:\", roc_auc_xgb)"
   ]
  },
  {
   "cell_type": "code",
   "execution_count": 27,
   "metadata": {},
   "outputs": [
    {
     "name": "stdout",
     "output_type": "stream",
     "text": [
      "Наилучшие гиперпараметры для модели XGBoost: {'gamma': 0.1, 'learning_rate': 0.1, 'max_depth': 7, 'n_estimators': 300}\n"
     ]
    }
   ],
   "source": [
    "# пробую подобрать гиперпараметры\n",
    "param_grid = {\n",
    "    'max_depth': [3, 5, 7],  # Максимальная глубина деревьев\n",
    "    'learning_rate': [0.1, 0.01, 0.001],  # Скорость обучения\n",
    "    'n_estimators': [100, 200, 300],  # Количество деревьев в ансамбле\n",
    "    'gamma': [0, 0.1, 0.2],  # Минимальное уменьшение потерь для деления\n",
    "}\n",
    "\n",
    "xgb_model = xgb.XGBClassifier()\n",
    "grid_search_xgb = GridSearchCV(estimator=xgb_model, param_grid=param_grid, cv=5, scoring='roc_auc')\n",
    "grid_search_xgb.fit(X_train_tfidf, y_train)\n",
    "\n",
    "# Получение наилучших гиперпараметров\n",
    "best_params_xgb = grid_search_xgb.best_params_\n",
    "print(\"Наилучшие гиперпараметры для модели XGBoost:\", best_params_xgb)\n"
   ]
  },
  {
   "cell_type": "code",
   "execution_count": 28,
   "metadata": {},
   "outputs": [
    {
     "name": "stdout",
     "output_type": "stream",
     "text": [
      "ROC-AUC для модели XGBoost на тестовой выборке после настройки гиперпараметров: 0.9936295110587802\n",
      "ROC-AUC для модели XGBoost на валидационной выборке после настройки гиперпараметров: 0.9797381268907234\n"
     ]
    }
   ],
   "source": [
    "# Получение лучшей модели\n",
    "best_model_xgb = grid_search_xgb.best_estimator_\n",
    "\n",
    "# Прогнозирование на тренировочной выборке с использованием лучшей модели\n",
    "y_train_pred_proba_xgb = best_model_xgb.predict_proba(X_train_tfidf)[:, 1]\n",
    "\n",
    "# Вычисление ROC-AUC на тренировочной выборке\n",
    "roc_auc_xgb_train = roc_auc_score(y_train, y_train_pred_proba_xgb)\n",
    "print(\"ROC-AUC для модели XGBoost на тестовой выборке после настройки гиперпараметров:\", roc_auc_xgb_test)\n",
    "\n",
    "# Прогнозирование на валидационной выборке с использованием лучшей модели\n",
    "y_val_pred_proba_xgb = best_model_xgb.predict_proba(X_val_tfidf)[:, 1]\n",
    "\n",
    "# Вычисление ROC-AUC\n",
    "roc_auc_xgb = roc_auc_score(y_val, y_val_pred_proba_xgb)\n",
    "print(\"ROC-AUC для модели XGBoost на валидационной выборке после настройки гиперпараметров:\", roc_auc_xgb)"
   ]
  },
  {
   "cell_type": "markdown",
   "metadata": {},
   "source": [
    "<span style=\"color:dimgray; font-size:20px\">\n",
    "Вывод:\n",
    "\n",
    "Лучше всего себя показала модель случайного леса</span>\n"
   ]
  },
  {
   "cell_type": "code",
   "execution_count": 29,
   "metadata": {},
   "outputs": [
    {
     "data": {
      "text/html": [
       "<div>\n",
       "<style scoped>\n",
       "    .dataframe tbody tr th:only-of-type {\n",
       "        vertical-align: middle;\n",
       "    }\n",
       "\n",
       "    .dataframe tbody tr th {\n",
       "        vertical-align: top;\n",
       "    }\n",
       "\n",
       "    .dataframe thead th {\n",
       "        text-align: right;\n",
       "    }\n",
       "</style>\n",
       "<table border=\"1\" class=\"dataframe\">\n",
       "  <thead>\n",
       "    <tr style=\"text-align: right;\">\n",
       "      <th></th>\n",
       "      <th>text_type</th>\n",
       "      <th>text</th>\n",
       "    </tr>\n",
       "  </thead>\n",
       "  <tbody>\n",
       "    <tr>\n",
       "      <th>0</th>\n",
       "      <td>0.118281</td>\n",
       "      <td>j jim whitehead ejw cse ucsc edu writes j you ...</td>\n",
       "    </tr>\n",
       "    <tr>\n",
       "      <th>1</th>\n",
       "      <td>0.263561</td>\n",
       "      <td>original message from bitbitch magnesium net p...</td>\n",
       "    </tr>\n",
       "    <tr>\n",
       "      <th>2</th>\n",
       "      <td>0.103157</td>\n",
       "      <td>java for managers vince durasoft who just taug...</td>\n",
       "    </tr>\n",
       "    <tr>\n",
       "      <th>3</th>\n",
       "      <td>0.041963</td>\n",
       "      <td>there is a youtuber name saiman says</td>\n",
       "    </tr>\n",
       "    <tr>\n",
       "      <th>4</th>\n",
       "      <td>0.713531</td>\n",
       "      <td>underpriced issue with high return on equity t...</td>\n",
       "    </tr>\n",
       "    <tr>\n",
       "      <th>...</th>\n",
       "      <td>...</td>\n",
       "      <td>...</td>\n",
       "    </tr>\n",
       "    <tr>\n",
       "      <th>4065</th>\n",
       "      <td>0.205433</td>\n",
       "      <td>husband to wifetum meri zindagi hoorwifeor kya...</td>\n",
       "    </tr>\n",
       "    <tr>\n",
       "      <th>4066</th>\n",
       "      <td>0.048513</td>\n",
       "      <td>baylor enron case study cindy yes i shall co a...</td>\n",
       "    </tr>\n",
       "    <tr>\n",
       "      <th>4067</th>\n",
       "      <td>0.185413</td>\n",
       "      <td>boring as compared to tp</td>\n",
       "    </tr>\n",
       "    <tr>\n",
       "      <th>4068</th>\n",
       "      <td>0.148913</td>\n",
       "      <td>hellogorgeous hows u my fone was on charge lst...</td>\n",
       "    </tr>\n",
       "    <tr>\n",
       "      <th>4069</th>\n",
       "      <td>0.083051</td>\n",
       "      <td>energy conference mark we are really swamped a...</td>\n",
       "    </tr>\n",
       "  </tbody>\n",
       "</table>\n",
       "<p>4070 rows × 2 columns</p>\n",
       "</div>"
      ],
      "text/plain": [
       "      text_type                                               text\n",
       "0      0.118281  j jim whitehead ejw cse ucsc edu writes j you ...\n",
       "1      0.263561  original message from bitbitch magnesium net p...\n",
       "2      0.103157  java for managers vince durasoft who just taug...\n",
       "3      0.041963               there is a youtuber name saiman says\n",
       "4      0.713531  underpriced issue with high return on equity t...\n",
       "...         ...                                                ...\n",
       "4065   0.205433  husband to wifetum meri zindagi hoorwifeor kya...\n",
       "4066   0.048513  baylor enron case study cindy yes i shall co a...\n",
       "4067   0.185413                           boring as compared to tp\n",
       "4068   0.148913  hellogorgeous hows u my fone was on charge lst...\n",
       "4069   0.083051  energy conference mark we are really swamped a...\n",
       "\n",
       "[4070 rows x 2 columns]"
      ]
     },
     "execution_count": 29,
     "metadata": {},
     "output_type": "execute_result"
    }
   ],
   "source": [
    "# Предсказываю вероятности принадлежности к 1 классу в тестовой выборке\n",
    "y_test_pred_proba_rf = best_model_rf.predict_proba(test_df['text'])[:, 1]\n",
    "results_df = pd.DataFrame({'text_type': y_test_pred_proba_rf, 'text': test_df['text']})\n",
    "results_df"
   ]
  },
  {
   "cell_type": "code",
   "execution_count": 36,
   "metadata": {},
   "outputs": [
    {
     "data": {
      "text/html": [
       "<div>\n",
       "<style scoped>\n",
       "    .dataframe tbody tr th:only-of-type {\n",
       "        vertical-align: middle;\n",
       "    }\n",
       "\n",
       "    .dataframe tbody tr th {\n",
       "        vertical-align: top;\n",
       "    }\n",
       "\n",
       "    .dataframe thead th {\n",
       "        text-align: right;\n",
       "    }\n",
       "</style>\n",
       "<table border=\"1\" class=\"dataframe\">\n",
       "  <thead>\n",
       "    <tr style=\"text-align: right;\">\n",
       "      <th></th>\n",
       "      <th>score</th>\n",
       "      <th>text</th>\n",
       "    </tr>\n",
       "  </thead>\n",
       "  <tbody>\n",
       "    <tr>\n",
       "      <th>0</th>\n",
       "      <td>0</td>\n",
       "      <td>j jim whitehead ejw cse ucsc edu writes j you ...</td>\n",
       "    </tr>\n",
       "    <tr>\n",
       "      <th>1</th>\n",
       "      <td>0</td>\n",
       "      <td>original message from bitbitch magnesium net p...</td>\n",
       "    </tr>\n",
       "    <tr>\n",
       "      <th>2</th>\n",
       "      <td>0</td>\n",
       "      <td>java for managers vince durasoft who just taug...</td>\n",
       "    </tr>\n",
       "    <tr>\n",
       "      <th>3</th>\n",
       "      <td>0</td>\n",
       "      <td>there is a youtuber name saiman says</td>\n",
       "    </tr>\n",
       "    <tr>\n",
       "      <th>4</th>\n",
       "      <td>1</td>\n",
       "      <td>underpriced issue with high return on equity t...</td>\n",
       "    </tr>\n",
       "    <tr>\n",
       "      <th>...</th>\n",
       "      <td>...</td>\n",
       "      <td>...</td>\n",
       "    </tr>\n",
       "    <tr>\n",
       "      <th>4065</th>\n",
       "      <td>0</td>\n",
       "      <td>husband to wifetum meri zindagi hoorwifeor kya...</td>\n",
       "    </tr>\n",
       "    <tr>\n",
       "      <th>4066</th>\n",
       "      <td>0</td>\n",
       "      <td>baylor enron case study cindy yes i shall co a...</td>\n",
       "    </tr>\n",
       "    <tr>\n",
       "      <th>4067</th>\n",
       "      <td>0</td>\n",
       "      <td>boring as compared to tp</td>\n",
       "    </tr>\n",
       "    <tr>\n",
       "      <th>4068</th>\n",
       "      <td>0</td>\n",
       "      <td>hellogorgeous hows u my fone was on charge lst...</td>\n",
       "    </tr>\n",
       "    <tr>\n",
       "      <th>4069</th>\n",
       "      <td>0</td>\n",
       "      <td>energy conference mark we are really swamped a...</td>\n",
       "    </tr>\n",
       "  </tbody>\n",
       "</table>\n",
       "<p>4070 rows × 2 columns</p>\n",
       "</div>"
      ],
      "text/plain": [
       "      score                                               text\n",
       "0         0  j jim whitehead ejw cse ucsc edu writes j you ...\n",
       "1         0  original message from bitbitch magnesium net p...\n",
       "2         0  java for managers vince durasoft who just taug...\n",
       "3         0               there is a youtuber name saiman says\n",
       "4         1  underpriced issue with high return on equity t...\n",
       "...     ...                                                ...\n",
       "4065      0  husband to wifetum meri zindagi hoorwifeor kya...\n",
       "4066      0  baylor enron case study cindy yes i shall co a...\n",
       "4067      0                           boring as compared to tp\n",
       "4068      0  hellogorgeous hows u my fone was on charge lst...\n",
       "4069      0  energy conference mark we are really swamped a...\n",
       "\n",
       "[4070 rows x 2 columns]"
      ]
     },
     "execution_count": 36,
     "metadata": {},
     "output_type": "execute_result"
    }
   ],
   "source": [
    "# Пороговое значение\n",
    "threshold = 0.5\n",
    "\n",
    "# Преобразую вероятности в бинарные предсказания\n",
    "binary_predictions = (y_test_pred_proba_rf > threshold).astype(int)\n",
    "\n",
    "# Создаю Final DataFrame\n",
    "results_df_final = pd.DataFrame({'score': binary_predictions, 'text': test_df['text']})\n",
    "results_df_final"
   ]
  },
  {
   "cell_type": "code",
   "execution_count": 38,
   "metadata": {},
   "outputs": [
    {
     "data": {
      "text/html": [
       "<div>\n",
       "<style scoped>\n",
       "    .dataframe tbody tr th:only-of-type {\n",
       "        vertical-align: middle;\n",
       "    }\n",
       "\n",
       "    .dataframe tbody tr th {\n",
       "        vertical-align: top;\n",
       "    }\n",
       "\n",
       "    .dataframe thead th {\n",
       "        text-align: right;\n",
       "    }\n",
       "</style>\n",
       "<table border=\"1\" class=\"dataframe\">\n",
       "  <thead>\n",
       "    <tr style=\"text-align: right;\">\n",
       "      <th></th>\n",
       "      <th>score</th>\n",
       "      <th>text</th>\n",
       "    </tr>\n",
       "  </thead>\n",
       "  <tbody>\n",
       "    <tr>\n",
       "      <th>0</th>\n",
       "      <td>ham</td>\n",
       "      <td>j jim whitehead ejw cse ucsc edu writes j you ...</td>\n",
       "    </tr>\n",
       "    <tr>\n",
       "      <th>1</th>\n",
       "      <td>ham</td>\n",
       "      <td>original message from bitbitch magnesium net p...</td>\n",
       "    </tr>\n",
       "    <tr>\n",
       "      <th>2</th>\n",
       "      <td>ham</td>\n",
       "      <td>java for managers vince durasoft who just taug...</td>\n",
       "    </tr>\n",
       "    <tr>\n",
       "      <th>3</th>\n",
       "      <td>ham</td>\n",
       "      <td>there is a youtuber name saiman says</td>\n",
       "    </tr>\n",
       "    <tr>\n",
       "      <th>4</th>\n",
       "      <td>spam</td>\n",
       "      <td>underpriced issue with high return on equity t...</td>\n",
       "    </tr>\n",
       "    <tr>\n",
       "      <th>...</th>\n",
       "      <td>...</td>\n",
       "      <td>...</td>\n",
       "    </tr>\n",
       "    <tr>\n",
       "      <th>4065</th>\n",
       "      <td>ham</td>\n",
       "      <td>husband to wifetum meri zindagi hoorwifeor kya...</td>\n",
       "    </tr>\n",
       "    <tr>\n",
       "      <th>4066</th>\n",
       "      <td>ham</td>\n",
       "      <td>baylor enron case study cindy yes i shall co a...</td>\n",
       "    </tr>\n",
       "    <tr>\n",
       "      <th>4067</th>\n",
       "      <td>ham</td>\n",
       "      <td>boring as compared to tp</td>\n",
       "    </tr>\n",
       "    <tr>\n",
       "      <th>4068</th>\n",
       "      <td>ham</td>\n",
       "      <td>hellogorgeous hows u my fone was on charge lst...</td>\n",
       "    </tr>\n",
       "    <tr>\n",
       "      <th>4069</th>\n",
       "      <td>ham</td>\n",
       "      <td>energy conference mark we are really swamped a...</td>\n",
       "    </tr>\n",
       "  </tbody>\n",
       "</table>\n",
       "<p>4070 rows × 2 columns</p>\n",
       "</div>"
      ],
      "text/plain": [
       "     score                                               text\n",
       "0      ham  j jim whitehead ejw cse ucsc edu writes j you ...\n",
       "1      ham  original message from bitbitch magnesium net p...\n",
       "2      ham  java for managers vince durasoft who just taug...\n",
       "3      ham               there is a youtuber name saiman says\n",
       "4     spam  underpriced issue with high return on equity t...\n",
       "...    ...                                                ...\n",
       "4065   ham  husband to wifetum meri zindagi hoorwifeor kya...\n",
       "4066   ham  baylor enron case study cindy yes i shall co a...\n",
       "4067   ham                           boring as compared to tp\n",
       "4068   ham  hellogorgeous hows u my fone was on charge lst...\n",
       "4069   ham  energy conference mark we are really swamped a...\n",
       "\n",
       "[4070 rows x 2 columns]"
      ]
     },
     "execution_count": 38,
     "metadata": {},
     "output_type": "execute_result"
    }
   ],
   "source": [
    "results_df_final['score'] = results_df_final['score'].replace({0: 'ham', 1: 'spam'})\n",
    "results_df_final"
   ]
  },
  {
   "cell_type": "code",
   "execution_count": 41,
   "metadata": {},
   "outputs": [],
   "source": [
    "results_df_final.to_csv('results.csv', index=False)"
   ]
  }
 ],
 "metadata": {
  "kernelspec": {
   "display_name": "base",
   "language": "python",
   "name": "python3"
  },
  "language_info": {
   "codemirror_mode": {
    "name": "ipython",
    "version": 3
   },
   "file_extension": ".py",
   "mimetype": "text/x-python",
   "name": "python",
   "nbconvert_exporter": "python",
   "pygments_lexer": "ipython3",
   "version": "3.10.9"
  }
 },
 "nbformat": 4,
 "nbformat_minor": 2
}
